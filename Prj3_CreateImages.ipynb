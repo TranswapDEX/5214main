{
 "cells": [
  {
   "cell_type": "code",
   "execution_count": 1,
   "metadata": {},
   "outputs": [],
   "source": [
    "# To begin, I created a folder called \"Project3_data\". I placed the fer2013.csv\n",
    "# file within the Project3_data folder, and then I ran the following code."
   ]
  },
  {
   "cell_type": "code",
   "execution_count": 2,
   "metadata": {},
   "outputs": [],
   "source": [
    "import numpy as np\n",
    "import pandas as pd\n",
    "import os\n",
    "from PIL import Image"
   ]
  },
  {
   "cell_type": "code",
   "execution_count": 3,
   "metadata": {},
   "outputs": [],
   "source": [
    "df = pd.read_csv('/Users/blakemyers/Desktop/Jupyter/Project3_data/fer2013.csv')"
   ]
  },
  {
   "cell_type": "code",
   "execution_count": 4,
   "metadata": {},
   "outputs": [],
   "source": [
    "df0 = df[df['emotion'] == 0]\n",
    "df1 = df[df['emotion'] == 1]\n",
    "df2 = df[df['emotion'] == 2]\n",
    "df3 = df[df['emotion'] == 3]\n",
    "df4 = df[df['emotion'] == 4]\n",
    "df5 = df[df['emotion'] == 5]\n",
    "df6 = df[df['emotion'] == 6]"
   ]
  },
  {
   "cell_type": "code",
   "execution_count": 5,
   "metadata": {},
   "outputs": [],
   "source": [
    "os.mkdir(\"/Users/blakemyers/Desktop/Jupyter/Project3_data/Angry/\")\n",
    "os.mkdir(\"/Users/blakemyers/Desktop/Jupyter/Project3_data/Disgust/\")\n",
    "os.mkdir(\"/Users/blakemyers/Desktop/Jupyter/Project3_data/Fear/\")\n",
    "os.mkdir(\"/Users/blakemyers/Desktop/Jupyter/Project3_data/Happy/\")\n",
    "os.mkdir(\"/Users/blakemyers/Desktop/Jupyter/Project3_data/Sad/\")\n",
    "os.mkdir(\"/Users/blakemyers/Desktop/Jupyter/Project3_data/Surprise/\")\n",
    "os.mkdir(\"/Users/blakemyers/Desktop/Jupyter/Project3_data/Neutral/\")"
   ]
  },
  {
   "cell_type": "code",
   "execution_count": 6,
   "metadata": {},
   "outputs": [],
   "source": [
    "d=0\n",
    "for image_pixels in df0.iloc[1:,1]:\n",
    "    image_string = image_pixels.split(' ')\n",
    "    image_data = np.asarray(image_string, dtype=np.uint8).reshape(48,48)\n",
    "    img = Image.fromarray(image_data)\n",
    "    img.save(\"/Users/blakemyers/Desktop/Jupyter/Project3_data/Angry/img_%d.jpg\"%d, \"JPEG\")\n",
    "    d+=1"
   ]
  },
  {
   "cell_type": "code",
   "execution_count": 7,
   "metadata": {},
   "outputs": [],
   "source": [
    "d=0\n",
    "for image_pixels in df1.iloc[1:,1]:\n",
    "    image_string = image_pixels.split(' ')\n",
    "    image_data = np.asarray(image_string, dtype=np.uint8).reshape(48,48)\n",
    "    img = Image.fromarray(image_data)\n",
    "    img.save(\"/Users/blakemyers/Desktop/Jupyter/Project3_data/Disgust/img_%d.jpg\"%d, \"JPEG\")\n",
    "    d+=1"
   ]
  },
  {
   "cell_type": "code",
   "execution_count": 8,
   "metadata": {},
   "outputs": [],
   "source": [
    "d=0\n",
    "for image_pixels in df2.iloc[1:,1]:\n",
    "    image_string = image_pixels.split(' ')\n",
    "    image_data = np.asarray(image_string, dtype=np.uint8).reshape(48,48)\n",
    "    img = Image.fromarray(image_data)\n",
    "    img.save(\"/Users/blakemyers/Desktop/Jupyter/Project3_data/Fear/img_%d.jpg\"%d, \"JPEG\")\n",
    "    d+=1"
   ]
  },
  {
   "cell_type": "code",
   "execution_count": 9,
   "metadata": {},
   "outputs": [],
   "source": [
    "d=0\n",
    "for image_pixels in df3.iloc[1:,1]:\n",
    "    image_string = image_pixels.split(' ')\n",
    "    image_data = np.asarray(image_string, dtype=np.uint8).reshape(48,48)\n",
    "    img = Image.fromarray(image_data)\n",
    "    img.save(\"/Users/blakemyers/Desktop/Jupyter/Project3_data/Happy/img_%d.jpg\"%d, \"JPEG\")\n",
    "    d+=1"
   ]
  },
  {
   "cell_type": "code",
   "execution_count": 10,
   "metadata": {},
   "outputs": [],
   "source": [
    "d=0\n",
    "for image_pixels in df4.iloc[1:,1]:\n",
    "    image_string = image_pixels.split(' ')\n",
    "    image_data = np.asarray(image_string, dtype=np.uint8).reshape(48,48)\n",
    "    img = Image.fromarray(image_data)\n",
    "    img.save(\"/Users/blakemyers/Desktop/Jupyter/Project3_data/Sad/img_%d.jpg\"%d, \"JPEG\")\n",
    "    d+=1"
   ]
  },
  {
   "cell_type": "code",
   "execution_count": 11,
   "metadata": {},
   "outputs": [],
   "source": [
    "d=0\n",
    "for image_pixels in df5.iloc[1:,1]:\n",
    "    image_string = image_pixels.split(' ')\n",
    "    image_data = np.asarray(image_string, dtype=np.uint8).reshape(48,48)\n",
    "    img = Image.fromarray(image_data)\n",
    "    img.save(\"/Users/blakemyers/Desktop/Jupyter/Project3_data/Surprise/img_%d.jpg\"%d, \"JPEG\")\n",
    "    d+=1"
   ]
  },
  {
   "cell_type": "code",
   "execution_count": 12,
   "metadata": {},
   "outputs": [],
   "source": [
    "d=0\n",
    "for image_pixels in df6.iloc[1:,1]:\n",
    "    image_string = image_pixels.split(' ')\n",
    "    image_data = np.asarray(image_string, dtype=np.uint8).reshape(48,48)\n",
    "    img = Image.fromarray(image_data)\n",
    "    img.save(\"/Users/blakemyers/Desktop/Jupyter/Project3_data/Neutral/img_%d.jpg\"%d, \"JPEG\")\n",
    "    d+=1"
   ]
  }
 ],
 "metadata": {
  "kernelspec": {
   "display_name": "Python 3",
   "language": "python",
   "name": "python3"
  },
  "language_info": {
   "codemirror_mode": {
    "name": "ipython",
    "version": 3
   },
   "file_extension": ".py",
   "mimetype": "text/x-python",
   "name": "python",
   "nbconvert_exporter": "python",
   "pygments_lexer": "ipython3",
   "version": "3.7.9"
  }
 },
 "nbformat": 4,
 "nbformat_minor": 2
}
